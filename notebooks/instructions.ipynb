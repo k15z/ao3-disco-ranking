{
 "cells": [
  {
   "cell_type": "markdown",
   "id": "36dd398b",
   "metadata": {},
   "source": [
    "Run the unit tests with:\n",
    "\n",
    "> make fix-lint test\n",
    "\n",
    "Your goal is to improve the classes under `ao3_disco_ranking/query/*.py`. The three things that would be nice, in order from most to least important, are:\n",
    "\n",
    "1. add unit tests\n",
    "2. add some basic docstrings. use google docstring format (https://google.github.io/styleguide/pyguide.html)\n",
    "3. assert the input has reasonable values =\n",
    "   - (i.e. if the user specifies tag_type = \"asdfasdf\" which isn't a real type of tag, raise an error)\n",
    "   - (i.e. check that the workID field is valid - naively, just check whether it can be parsed as an integer)\n",
    "\n",
    "The most important classes, in order, for adding documentation + test are:\n",
    "\n",
    " - TagsFilter\n",
    " - GraphRanker\n",
    " - EmbedddingRanker # mock the model\n",
    " - QueryHandler\n",
    "\n",
    "Here are the \"works\" and \"collections\" objects for your reference. Use fake values in the tests:"
   ]
  },
  {
   "cell_type": "code",
   "execution_count": 9,
   "id": "ac5a5da9",
   "metadata": {},
   "outputs": [
    {
     "name": "stdout",
     "output_type": "stream",
     "text": [
      "268937 16815\n",
      "<class 'dict'>\n"
     ]
    },
    {
     "ename": "TypeError",
     "evalue": "'dict_keys' object is not subscriptable",
     "output_type": "error",
     "traceback": [
      "\u001b[0;31m---------------------------------------------------------------------------\u001b[0m",
      "\u001b[0;31mTypeError\u001b[0m                                 Traceback (most recent call last)",
      "Cell \u001b[0;32mIn[9], line 6\u001b[0m\n\u001b[1;32m      4\u001b[0m     \u001b[38;5;28mprint\u001b[39m(\u001b[38;5;28mlen\u001b[39m(works), \u001b[38;5;28mlen\u001b[39m(collections))\n\u001b[1;32m      5\u001b[0m     \u001b[38;5;28mprint\u001b[39m(\u001b[38;5;28mtype\u001b[39m(works))\n\u001b[0;32m----> 6\u001b[0m     \u001b[38;5;28mprint\u001b[39m(\u001b[43mworks\u001b[49m\u001b[38;5;241;43m.\u001b[39;49m\u001b[43mkeys\u001b[49m\u001b[43m(\u001b[49m\u001b[43m)\u001b[49m\u001b[43m[\u001b[49m\u001b[43m:\u001b[49m\u001b[38;5;241;43m2\u001b[39;49m\u001b[43m]\u001b[49m)\n\u001b[1;32m      7\u001b[0m     \u001b[38;5;28mprint\u001b[39m(works\u001b[38;5;241m.\u001b[39mvalues()[:\u001b[38;5;241m2\u001b[39m])\n\u001b[1;32m      8\u001b[0m workIDs \u001b[38;5;241m=\u001b[39m \u001b[38;5;28mlist\u001b[39m(works\u001b[38;5;241m.\u001b[39mkeys())\n",
      "\u001b[0;31mTypeError\u001b[0m: 'dict_keys' object is not subscriptable"
     ]
    }
   ],
   "source": [
    "import pickle\n",
    "with open(\"../data/works_collections.pkl\", \"rb\") as fin:\n",
    "    works, collections = pickle.load(fin)\n",
    "    print(len(works), len(collections))\n",
    "    print(type(works))\n",
    "    print(works.keys()[:2])\n",
    "    print(works.values()[:2])\n",
    "workIDs = list(works.keys())"
   ]
  },
  {
   "cell_type": "code",
   "execution_count": 2,
   "id": "22e5e2af",
   "metadata": {},
   "outputs": [
    {
     "data": {
      "text/plain": [
       "'10001435'"
      ]
     },
     "execution_count": 2,
     "metadata": {},
     "output_type": "execute_result"
    }
   ],
   "source": [
    "workIDs[0] # each work ID = the /works/<...> part of the URL"
   ]
  },
  {
   "cell_type": "code",
   "execution_count": 10,
   "id": "5ef01977",
   "metadata": {},
   "outputs": [
    {
     "name": "stderr",
     "output_type": "stream",
     "text": [
      "IOPub data rate exceeded.\n",
      "The notebook server will temporarily stop sending output\n",
      "to the client in order to avoid crashing it.\n",
      "To change this limit, set the config variable\n",
      "`--NotebookApp.iopub_data_rate_limit`.\n",
      "\n",
      "Current values:\n",
      "NotebookApp.iopub_data_rate_limit=1000000.0 (bytes/sec)\n",
      "NotebookApp.rate_limit_window=3.0 (secs)\n",
      "\n"
     ]
    }
   ],
   "source": [
    "import json\n",
    "\n",
    "# Each work is represented as a dictionary like this.\n",
    "# The tags filter extracts the tags and makes it possible to filter on it.\n",
    "# example: excluded_tags = [(\"fandom\", \"Harry Potter\"), ...]\n",
    "# it takes a list of tags (tag = type, value) to require / exclude. make sure the results are correct\n",
    "print(json.dumps(works[workIDs[0]], indent=2))"
   ]
  },
  {
   "cell_type": "code",
   "execution_count": 5,
   "id": "ead6e155",
   "metadata": {},
   "outputs": [
    {
     "data": {
      "text/plain": [
       "('43954231', '37117771', '34923421', '20497667', '18572542')"
      ]
     },
     "execution_count": 5,
     "metadata": {},
     "output_type": "execute_result"
    }
   ],
   "source": [
    "# Each collection is a tuple of work IDs and indicates that a user has bookmarked all those works\n",
    "# The graph ranker uses this information to select works\n",
    "collections[0]"
   ]
  },
  {
   "cell_type": "code",
   "execution_count": null,
   "id": "6063f681",
   "metadata": {},
   "outputs": [],
   "source": []
  }
 ],
 "metadata": {
  "kernelspec": {
   "display_name": "Python 3 (ipykernel)",
   "language": "python",
   "name": "python3"
  },
  "language_info": {
   "codemirror_mode": {
    "name": "ipython",
    "version": 3
   },
   "file_extension": ".py",
   "mimetype": "text/x-python",
   "name": "python",
   "nbconvert_exporter": "python",
   "pygments_lexer": "ipython3",
   "version": "3.9.13"
  }
 },
 "nbformat": 4,
 "nbformat_minor": 5
}
