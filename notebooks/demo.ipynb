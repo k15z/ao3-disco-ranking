{
 "cells": [
  {
   "cell_type": "code",
   "execution_count": 1,
   "id": "4d2ddafa",
   "metadata": {},
   "outputs": [],
   "source": [
    "import pickle"
   ]
  },
  {
   "cell_type": "code",
   "execution_count": 2,
   "id": "b85552ff",
   "metadata": {},
   "outputs": [],
   "source": [
    "with open(\"/Users/kevz/Downloads/model.pkl\", \"rb\") as fin:\n",
    "    model = pickle.load(fin)"
   ]
  },
  {
   "cell_type": "code",
   "execution_count": 3,
   "id": "7112d10d",
   "metadata": {},
   "outputs": [
    {
     "data": {
      "text/plain": [
       "[('32897344', 0.93487847), ('22230682', 0.92180926), ('37491055', 0.8257674)]"
      ]
     },
     "execution_count": 3,
     "metadata": {},
     "output_type": "execute_result"
    }
   ],
   "source": [
    "model.rank(\"4701869\", [\"32897344\", \"22230682\", \"37491055\"])"
   ]
  },
  {
   "cell_type": "code",
   "execution_count": 4,
   "id": "bf8b80b2",
   "metadata": {},
   "outputs": [
    {
     "data": {
      "application/vnd.jupyter.widget-view+json": {
       "model_id": "0bded44c830e45f5b8a7829c195e8002",
       "version_major": 2,
       "version_minor": 0
      },
      "text/plain": [
       "  0%|          | 0/268937 [00:00<?, ?it/s]"
      ]
     },
     "metadata": {},
     "output_type": "display_data"
    }
   ],
   "source": [
    "import torch\n",
    "import torch.nn.functional as F\n",
    "import numpy as np\n",
    "from tqdm.auto import tqdm\n",
    "\n",
    "work_to_i = {work:i for i, work in enumerate(model.works)}\n",
    "i_to_work = {k:v for v, k in work_to_i.items()}\n",
    "\n",
    "embeddings = np.zeros((len(work_to_i), 128))\n",
    "for work, i in tqdm(work_to_i.items()):\n",
    "    embeddings[i] = model.embedding(work)\n",
    "embeddings = torch.tensor(embeddings)"
   ]
  },
  {
   "cell_type": "code",
   "execution_count": 5,
   "id": "65fa2371",
   "metadata": {},
   "outputs": [],
   "source": [
    "scores = F.cosine_similarity(embeddings[work_to_i[\"4701869\"]], embeddings)"
   ]
  },
  {
   "cell_type": "code",
   "execution_count": 6,
   "id": "e3865d6c",
   "metadata": {},
   "outputs": [
    {
     "name": "stdout",
     "output_type": "stream",
     "text": [
      "Oh God Not Again!\n",
      "['Gen']\n",
      "['Harry Potter', 'Sirius Black', 'Hermione Granger', 'Ron Weasley', 'Neville Longbottom', 'Draco Malfoy', 'Severus Snape', 'Remus Lupin', 'Luna Lovegood', 'Cedric Diggory', 'Percy Weasley', 'Dobby (Harry Potter)', 'Fred Weasley', 'George Weasley']\n",
      "So maybe everything didn't work out perfectly for Harry. Still, most of his friends survived, he'd gotten married, and was about to become a father. If only he'd have stayed away from the Veil, he wou\n",
      "----------------------------------------------------------------------------------------------------\n",
      "Hogwarts, to welcome you home\n",
      "['Gen']\n",
      "['Minerva McGonagall', 'Harry Potter', 'Neville Longbottom', 'Hermione Granger', 'Ron Weasley', 'Ginny Weasley', 'Luna Lovegood']\n",
      "\"You understand, Professor,\" Harry began, after a moment, \"that I don't have my N.E.W.T.s. I never even finished seventh year. Between everything, I never had a chance the first time around, and then \n",
      "----------------------------------------------------------------------------------------------------\n",
      "Text Talk\n",
      "[]\n",
      "['Sirius Black', 'Remus Lupin', 'James Potter', 'Peter Pettigrew', 'Moony', 'Wormtail', 'Padfoot', 'Prongs', 'Lily Evans', 'Lily Potter', 'Alice Longbottom', 'Frank Longbottom']\n",
      "Sirius is in boarding school, Remus is in hospital, and they don't know each other until Sirius texts the wrong number.\n",
      "----------------------------------------------------------------------------------------------------\n",
      "he's a killer queen, sunflower, guillotine\n",
      "['Gen']\n",
      "['Edward Elric', 'Harry Potter', 'Hermione Granger', 'Ron Weasley', 'Luna Lovegood', 'Neville Longbottom', 'Blaise Zabini', 'Fred Weasley', 'George Weasley', 'Albus Dumbledore', 'Minerva McGonagall', 'Severus Snape', 'Truth (Fullmetal Alchemist)', 'Original Characters', 'Remus Lupin', 'Sirius Black']\n",
      "He has to be the weirdest Hufflepuff Harry's ever seen.Scratch that, he's the weirdest Hufflepuff Hogwarts has ever seen.(One thing everyone could agree on: NEVER call Edward Elric short.)\n",
      "----------------------------------------------------------------------------------------------------\n",
      "A Step to the Right\n",
      "['F/M', 'Multi']\n",
      "['Harry Potter', 'Hermione Granger', 'Albus Dumbledore', 'Minerva McGonagall', 'Sirius Black', 'James Potter', 'Arcturus Black', 'Charlus Potter']\n",
      "When Harry saves Hermione's life, they find themselves in a different world and in the middle of another magical war - but at least they have each other.\n",
      "----------------------------------------------------------------------------------------------------\n",
      "Far Beyond a Promise Kept\n",
      "['Gen']\n",
      "['Severus Snape', 'Harry Potter', 'Ron Weasley', 'Hermione Granger', 'Albus Dumbledore', 'Voldemort', 'Sirius Black', 'Remus Lupin']\n",
      "Snape never wanted anyone to know of his promise to Dumbledore, but has realised that he can protect Potter much better by taking a less passive role in the boy's training. Actually liking Harry Potte\n",
      "----------------------------------------------------------------------------------------------------\n",
      "Running on Air\n",
      "['Multi']\n",
      "['Draco Malfoy', 'Harry Potter', 'Hermione Granger', 'Ron Weasley', 'Astoria Greengrass', 'Ginny Weasley']\n",
      "Draco Malfoy has been missing for three years. Harry is assigned the cold case and finds himself slowly falling in love with the memories he collects.\n",
      "----------------------------------------------------------------------------------------------------\n"
     ]
    }
   ],
   "source": [
    "_, indices = torch.topk(scores, 7)\n",
    "for i in indices:\n",
    "    work = model.works[i_to_work[i.item()]]\n",
    "    print(work[\"title\"])\n",
    "    print(work[\"tags\"][\"category\"])\n",
    "    print(work[\"tags\"][\"character\"])\n",
    "    print(work[\"summary\"][:200])\n",
    "    print(\"-\"*100)"
   ]
  },
  {
   "cell_type": "code",
   "execution_count": 7,
   "id": "7720b1cc",
   "metadata": {},
   "outputs": [
    {
     "data": {
      "text/plain": [
       "275391907"
      ]
     },
     "execution_count": 7,
     "metadata": {},
     "output_type": "execute_result"
    }
   ],
   "source": [
    "import pickle\n",
    "len(pickle.dumps(embeddings))"
   ]
  },
  {
   "cell_type": "code",
   "execution_count": null,
   "id": "eb41ddfc",
   "metadata": {},
   "outputs": [],
   "source": []
  }
 ],
 "metadata": {
  "kernelspec": {
   "display_name": "Python 3 (ipykernel)",
   "language": "python",
   "name": "python3"
  },
  "language_info": {
   "codemirror_mode": {
    "name": "ipython",
    "version": 3
   },
   "file_extension": ".py",
   "mimetype": "text/x-python",
   "name": "python",
   "nbconvert_exporter": "python",
   "pygments_lexer": "ipython3",
   "version": "3.9.13"
  }
 },
 "nbformat": 4,
 "nbformat_minor": 5
}
