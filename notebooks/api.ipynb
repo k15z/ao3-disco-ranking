{
 "cells": [
  {
   "cell_type": "code",
   "execution_count": 1,
   "id": "945b2dc3",
   "metadata": {},
   "outputs": [],
   "source": [
    "%load_ext autoreload\n",
    "%autoreload 2"
   ]
  },
  {
   "cell_type": "code",
   "execution_count": 2,
   "id": "701aeb75",
   "metadata": {},
   "outputs": [],
   "source": [
    "import logging\n",
    "logging.basicConfig(level=logging.DEBUG)"
   ]
  },
  {
   "cell_type": "code",
   "execution_count": 3,
   "id": "69d0456e-76ef-404e-b8d0-ce205018df06",
   "metadata": {},
   "outputs": [
    {
     "name": "stdout",
     "output_type": "stream",
     "text": [
      "268937 16815\n"
     ]
    }
   ],
   "source": [
    "import pickle\n",
    "with open(\"../data/works_collections.pkl\", \"rb\") as fin:\n",
    "    works, collections = pickle.load(fin)\n",
    "    print(len(works), len(collections))"
   ]
  },
  {
   "cell_type": "code",
   "execution_count": 4,
   "id": "d21edce5-242d-45e4-b68d-7bf695f891f5",
   "metadata": {},
   "outputs": [],
   "source": [
    "from ao3_disco_ranking.query import QueryHandler\n",
    "from ao3_disco_ranking.query import TagsFilter\n",
    "from ao3_disco_ranking.query import GraphRanker"
   ]
  },
  {
   "cell_type": "code",
   "execution_count": 5,
   "id": "b0bbc98d-3dde-4df2-9efe-11055a1acfd1",
   "metadata": {},
   "outputs": [],
   "source": [
    "tags_filter = TagsFilter(works)"
   ]
  },
  {
   "cell_type": "code",
   "execution_count": 6,
   "id": "9663d471-2171-44cf-9b2d-1eb0ee05683d",
   "metadata": {},
   "outputs": [],
   "source": [
    "graph_ranker = GraphRanker(collections)"
   ]
  },
  {
   "cell_type": "code",
   "execution_count": 7,
   "id": "bffa2bff-1ba9-44c0-974f-107c46bba7e9",
   "metadata": {},
   "outputs": [],
   "source": [
    "test = QueryHandler(tags_filter, graph_ranker, None)"
   ]
  },
  {
   "cell_type": "code",
   "execution_count": 8,
   "id": "4b25a8b2-19a2-4924-9a50-1ca69a0f14a9",
   "metadata": {},
   "outputs": [
    {
     "name": "stderr",
     "output_type": "stream",
     "text": [
      "INFO:root:Querying for 4701869.\n",
      "INFO:root:Applying the tags filter...\n",
      "INFO:root:Found 23630 with one_or_more...\n",
      "INFO:root:Tags filter selected 23630 candidates.\n",
      "INFO:root:Applying the graph ranker...\n",
      "INFO:root:Graph ranker returned 5 candidates.\n"
     ]
    },
    {
     "data": {
      "text/plain": [
       "[('34923421', 51),\n",
       " ('30856244', 51),\n",
       " ('32897344', 38),\n",
       " ('20049589', 34),\n",
       " ('17926664', 34)]"
      ]
     },
     "execution_count": 8,
     "metadata": {},
     "output_type": "execute_result"
    }
   ],
   "source": [
    "test.basic_query(\"4701869\", N=5)"
   ]
  },
  {
   "cell_type": "code",
   "execution_count": 9,
   "id": "a5d329d5",
   "metadata": {},
   "outputs": [],
   "source": [
    "with open(\"/Users/kevz/Downloads/model.pkl\", \"rb\") as fin:\n",
    "    model = pickle.load(fin)"
   ]
  },
  {
   "cell_type": "code",
   "execution_count": 10,
   "id": "41514d12",
   "metadata": {},
   "outputs": [
    {
     "data": {
      "application/vnd.jupyter.widget-view+json": {
       "model_id": "9ee73b611e0a4d20a038036cd17a987e",
       "version_major": 2,
       "version_minor": 0
      },
      "text/plain": [
       "  0%|          | 0/268937 [00:00<?, ?it/s]"
      ]
     },
     "metadata": {},
     "output_type": "display_data"
    }
   ],
   "source": [
    "from ao3_disco_ranking.query import EmbeddingRanker\n",
    "embedding_ranker = EmbeddingRanker(model, works)"
   ]
  },
  {
   "cell_type": "code",
   "execution_count": 11,
   "id": "cc4e7030",
   "metadata": {},
   "outputs": [
    {
     "data": {
      "text/plain": [
       "[('8125531', tensor(0.9772, dtype=torch.float64)),\n",
       " ('1651109', tensor(0.9695, dtype=torch.float64)),\n",
       " ('22365040', tensor(0.9618, dtype=torch.float64)),\n",
       " ('14949759', tensor(0.9597, dtype=torch.float64))]"
      ]
     },
     "execution_count": 11,
     "metadata": {},
     "output_type": "execute_result"
    }
   ],
   "source": [
    "embedding_ranker.rank(\"4701869\", candidates=None, N=5)"
   ]
  },
  {
   "cell_type": "code",
   "execution_count": 12,
   "id": "b749f8fd",
   "metadata": {},
   "outputs": [],
   "source": [
    "test = QueryHandler(tags_filter, graph_ranker, embedding_ranker)"
   ]
  },
  {
   "cell_type": "code",
   "execution_count": 13,
   "id": "8ebd8d12",
   "metadata": {},
   "outputs": [
    {
     "name": "stderr",
     "output_type": "stream",
     "text": [
      "INFO:root:Querying for 44722714.\n",
      "INFO:root:Applying the tags filter...\n",
      "INFO:root:Found 527 with one_or_more...\n",
      "INFO:root:Tags filter selected 527 candidates.\n",
      "INFO:root:Applying the graph ranker...\n",
      "INFO:root:Graph ranker returned 0 candidates.\n",
      "INFO:root:Falling back to embedding ranker...\n",
      "INFO:root:Embedding ranker returned 0 candidates.\n"
     ]
    },
    {
     "data": {
      "text/plain": [
       "[('22806328', tensor(0.9006, dtype=torch.float64)),\n",
       " ('42653793', tensor(0.9004, dtype=torch.float64)),\n",
       " ('41006394', tensor(0.8940, dtype=torch.float64)),\n",
       " ('41198490', tensor(0.8893, dtype=torch.float64)),\n",
       " ('41851617', tensor(0.8893, dtype=torch.float64))]"
      ]
     },
     "execution_count": 13,
     "metadata": {},
     "output_type": "execute_result"
    }
   ],
   "source": [
    "test.basic_query(\"44722714\", N=5)"
   ]
  },
  {
   "cell_type": "code",
   "execution_count": 14,
   "id": "31c04ab9",
   "metadata": {},
   "outputs": [
    {
     "name": "stderr",
     "output_type": "stream",
     "text": [
      "INFO:root:Querying for 45212884.\n",
      "INFO:root:Applying the tags filter...\n",
      "INFO:root:Found 6 with one_or_more...\n",
      "INFO:root:Tags filter selected 6 candidates.\n",
      "INFO:root:Applying the graph ranker...\n",
      "INFO:root:Graph ranker returned 0 candidates.\n",
      "INFO:root:Falling back to embedding ranker...\n",
      "INFO:root:Embedding ranker returned 0 candidates.\n"
     ]
    },
    {
     "data": {
      "text/plain": [
       "[('35242330', tensor(0.9329, dtype=torch.float64)),\n",
       " ('28796865', tensor(0.8794, dtype=torch.float64)),\n",
       " ('30938369', tensor(0.8485, dtype=torch.float64)),\n",
       " ('27573838', tensor(0.8401, dtype=torch.float64)),\n",
       " ('24205738', tensor(0.8163, dtype=torch.float64))]"
      ]
     },
     "execution_count": 14,
     "metadata": {},
     "output_type": "execute_result"
    }
   ],
   "source": [
    "test.basic_query(\"45212884\", N=5)"
   ]
  },
  {
   "cell_type": "code",
   "execution_count": 20,
   "id": "b22f2052",
   "metadata": {},
   "outputs": [
    {
     "name": "stderr",
     "output_type": "stream",
     "text": [
      "INFO:root:Querying for 45212884.\n",
      "INFO:root:Applying the graph ranker...\n",
      "INFO:root:Graph ranker returned 0/10 candidates.\n",
      "INFO:root:Falling back to embedding ranker...\n",
      "INFO:root:Embedding ranker returned 10/10 candidates.\n"
     ]
    },
    {
     "data": {
      "text/plain": [
       "[('35242330', tensor(0.9329, dtype=torch.float64)),\n",
       " ('24502813', tensor(0.9138, dtype=torch.float64)),\n",
       " ('28214820', tensor(0.9045, dtype=torch.float64)),\n",
       " ('32049325', tensor(0.9001, dtype=torch.float64)),\n",
       " ('9943445', tensor(0.9001, dtype=torch.float64)),\n",
       " ('40203219', tensor(0.8999, dtype=torch.float64)),\n",
       " ('42621591', tensor(0.8997, dtype=torch.float64)),\n",
       " ('37172584', tensor(0.8966, dtype=torch.float64)),\n",
       " ('30669770', tensor(0.8952, dtype=torch.float64)),\n",
       " ('40944528', tensor(0.8926, dtype=torch.float64))]"
      ]
     },
     "execution_count": 20,
     "metadata": {},
     "output_type": "execute_result"
    }
   ],
   "source": [
    "test.basic_query(\"45212884\", N=10, match_fandom=False)"
   ]
  },
  {
   "cell_type": "code",
   "execution_count": 21,
   "id": "82c6f8c5",
   "metadata": {},
   "outputs": [
    {
     "name": "stderr",
     "output_type": "stream",
     "text": [
      "INFO:root:Querying for 45212884.\n",
      "INFO:root:Applying the tags filter...\n",
      "INFO:root:Found 6 with one_or_more...\n",
      "INFO:root:Tags filter selected 6/10 candidates.\n",
      "INFO:root:Applying the graph ranker...\n",
      "INFO:root:Graph ranker returned 0/10 candidates.\n",
      "INFO:root:Falling back to embedding ranker...\n",
      "INFO:root:Embedding ranker returned 6/10 candidates.\n"
     ]
    },
    {
     "data": {
      "text/plain": [
       "[('35242330', tensor(0.9329, dtype=torch.float64)),\n",
       " ('28796865', tensor(0.8794, dtype=torch.float64)),\n",
       " ('30938369', tensor(0.8485, dtype=torch.float64)),\n",
       " ('27573838', tensor(0.8401, dtype=torch.float64)),\n",
       " ('24205738', tensor(0.8163, dtype=torch.float64)),\n",
       " ('2700275', tensor(0.7868, dtype=torch.float64))]"
      ]
     },
     "execution_count": 21,
     "metadata": {},
     "output_type": "execute_result"
    }
   ],
   "source": [
    "test.basic_query(\"45212884\", N=10, match_fandom=True)"
   ]
  },
  {
   "cell_type": "code",
   "execution_count": null,
   "id": "fc2796fb",
   "metadata": {},
   "outputs": [],
   "source": []
  }
 ],
 "metadata": {
  "kernelspec": {
   "display_name": "Python 3 (ipykernel)",
   "language": "python",
   "name": "python3"
  },
  "language_info": {
   "codemirror_mode": {
    "name": "ipython",
    "version": 3
   },
   "file_extension": ".py",
   "mimetype": "text/x-python",
   "name": "python",
   "nbconvert_exporter": "python",
   "pygments_lexer": "ipython3",
   "version": "3.9.13"
  }
 },
 "nbformat": 4,
 "nbformat_minor": 5
}
